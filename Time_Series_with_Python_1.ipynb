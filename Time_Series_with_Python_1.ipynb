{
 "cells": [
  {
   "cell_type": "markdown",
   "metadata": {},
   "source": [
    "Stationarity Tests"
   ]
  },
  {
   "cell_type": "code",
   "execution_count": 1,
   "metadata": {},
   "outputs": [],
   "source": [
    "# ADF test is a very popular test for stationarity, However some time series passes the ADF test without being stationary, KPSS is another test for checking the stationarity of a time series. It is prudent to apply both tests, so that it can be ensured that the series is truly stationarity. Next to that, we cannot forget teh importance of also observing the time series plot.\n",
    "\n",
    "\n",
    "\n",
    "# ADF test is used to determine the presence of unit root in the series and hence helps understanding if the series is stationary or not. The null and alternate hypothesis of this test are:\n",
    "\n",
    "\n",
    "\n",
    "# Null Hypothesis: The series has a unit root, meaning it is non-stationary. It has some time dependent structure.\n",
    "\n",
    "# Alternate Hypothesis: The series has no unit root, meaning it is stationary. It does not have time dependent structure.\n",
    "\n",
    "\n",
    "# If the null hypothesis failed to be rejected, this test may provide evidence that the series is non-stationary..\n",
    "\n",
    "# A p-value below 0.05 suggests we reject the null hypothesis. Otherwise a p-value above the threshold suggests we fail to reject the null hepothesis"
   ]
  },
  {
   "cell_type": "code",
   "execution_count": 2,
   "metadata": {},
   "outputs": [],
   "source": [
    "import numpy as np\n",
    "import pandas as pd"
   ]
  },
  {
   "cell_type": "markdown",
   "metadata": {},
   "source": [
    "We load the data about the pm2.5 for the year 2022 for the city of New Delhi"
   ]
  },
  {
   "cell_type": "code",
   "execution_count": 3,
   "metadata": {},
   "outputs": [],
   "source": [
    "raw_data = pd.read_csv('NewDelhi_PM2.5_2022_YTD.csv')"
   ]
  },
  {
   "cell_type": "code",
   "execution_count": 4,
   "metadata": {},
   "outputs": [
    {
     "data": {
      "text/html": [
       "<div>\n",
       "<style scoped>\n",
       "    .dataframe tbody tr th:only-of-type {\n",
       "        vertical-align: middle;\n",
       "    }\n",
       "\n",
       "    .dataframe tbody tr th {\n",
       "        vertical-align: top;\n",
       "    }\n",
       "\n",
       "    .dataframe thead th {\n",
       "        text-align: right;\n",
       "    }\n",
       "</style>\n",
       "<table border=\"1\" class=\"dataframe\">\n",
       "  <thead>\n",
       "    <tr style=\"text-align: right;\">\n",
       "      <th></th>\n",
       "      <th>Site</th>\n",
       "      <th>Parameter</th>\n",
       "      <th>Date (LT)</th>\n",
       "      <th>Year</th>\n",
       "      <th>Month</th>\n",
       "      <th>Day</th>\n",
       "      <th>Hour</th>\n",
       "      <th>NowCast Conc.</th>\n",
       "      <th>AQI</th>\n",
       "      <th>AQI Category</th>\n",
       "      <th>Raw Conc.</th>\n",
       "      <th>Conc. Unit</th>\n",
       "      <th>Duration</th>\n",
       "      <th>QC Name</th>\n",
       "    </tr>\n",
       "  </thead>\n",
       "  <tbody>\n",
       "    <tr>\n",
       "      <th>0</th>\n",
       "      <td>New Delhi</td>\n",
       "      <td>PM2.5 - Principal</td>\n",
       "      <td>2022-01-01 02:00 AM</td>\n",
       "      <td>2022</td>\n",
       "      <td>1</td>\n",
       "      <td>1</td>\n",
       "      <td>2</td>\n",
       "      <td>262.5</td>\n",
       "      <td>313</td>\n",
       "      <td>Hazardous</td>\n",
       "      <td>269.0</td>\n",
       "      <td>UG/M3</td>\n",
       "      <td>1 Hr</td>\n",
       "      <td>Valid</td>\n",
       "    </tr>\n",
       "    <tr>\n",
       "      <th>1</th>\n",
       "      <td>New Delhi</td>\n",
       "      <td>PM2.5 - Principal</td>\n",
       "      <td>2022-01-01 03:00 AM</td>\n",
       "      <td>2022</td>\n",
       "      <td>1</td>\n",
       "      <td>1</td>\n",
       "      <td>3</td>\n",
       "      <td>255.3</td>\n",
       "      <td>306</td>\n",
       "      <td>Hazardous</td>\n",
       "      <td>248.0</td>\n",
       "      <td>UG/M3</td>\n",
       "      <td>1 Hr</td>\n",
       "      <td>Valid</td>\n",
       "    </tr>\n",
       "    <tr>\n",
       "      <th>2</th>\n",
       "      <td>New Delhi</td>\n",
       "      <td>PM2.5 - Principal</td>\n",
       "      <td>2022-01-01 04:00 AM</td>\n",
       "      <td>2022</td>\n",
       "      <td>1</td>\n",
       "      <td>1</td>\n",
       "      <td>4</td>\n",
       "      <td>252.1</td>\n",
       "      <td>303</td>\n",
       "      <td>Hazardous</td>\n",
       "      <td>249.0</td>\n",
       "      <td>UG/M3</td>\n",
       "      <td>1 Hr</td>\n",
       "      <td>Valid</td>\n",
       "    </tr>\n",
       "    <tr>\n",
       "      <th>3</th>\n",
       "      <td>New Delhi</td>\n",
       "      <td>PM2.5 - Principal</td>\n",
       "      <td>2022-01-01 05:00 AM</td>\n",
       "      <td>2022</td>\n",
       "      <td>1</td>\n",
       "      <td>1</td>\n",
       "      <td>5</td>\n",
       "      <td>231.3</td>\n",
       "      <td>281</td>\n",
       "      <td>Very Unhealthy</td>\n",
       "      <td>205.0</td>\n",
       "      <td>UG/M3</td>\n",
       "      <td>1 Hr</td>\n",
       "      <td>Valid</td>\n",
       "    </tr>\n",
       "    <tr>\n",
       "      <th>4</th>\n",
       "      <td>New Delhi</td>\n",
       "      <td>PM2.5 - Principal</td>\n",
       "      <td>2022-01-01 06:00 AM</td>\n",
       "      <td>2022</td>\n",
       "      <td>1</td>\n",
       "      <td>1</td>\n",
       "      <td>6</td>\n",
       "      <td>222.6</td>\n",
       "      <td>272</td>\n",
       "      <td>Very Unhealthy</td>\n",
       "      <td>195.0</td>\n",
       "      <td>UG/M3</td>\n",
       "      <td>1 Hr</td>\n",
       "      <td>Valid</td>\n",
       "    </tr>\n",
       "  </tbody>\n",
       "</table>\n",
       "</div>"
      ],
      "text/plain": [
       "        Site          Parameter            Date (LT)  Year  Month  Day  Hour  \\\n",
       "0  New Delhi  PM2.5 - Principal  2022-01-01 02:00 AM  2022      1    1     2   \n",
       "1  New Delhi  PM2.5 - Principal  2022-01-01 03:00 AM  2022      1    1     3   \n",
       "2  New Delhi  PM2.5 - Principal  2022-01-01 04:00 AM  2022      1    1     4   \n",
       "3  New Delhi  PM2.5 - Principal  2022-01-01 05:00 AM  2022      1    1     5   \n",
       "4  New Delhi  PM2.5 - Principal  2022-01-01 06:00 AM  2022      1    1     6   \n",
       "\n",
       "   NowCast Conc.  AQI    AQI Category  Raw Conc. Conc. Unit Duration QC Name  \n",
       "0          262.5  313       Hazardous      269.0      UG/M3     1 Hr   Valid  \n",
       "1          255.3  306       Hazardous      248.0      UG/M3     1 Hr   Valid  \n",
       "2          252.1  303       Hazardous      249.0      UG/M3     1 Hr   Valid  \n",
       "3          231.3  281  Very Unhealthy      205.0      UG/M3     1 Hr   Valid  \n",
       "4          222.6  272  Very Unhealthy      195.0      UG/M3     1 Hr   Valid  "
      ]
     },
     "execution_count": 4,
     "metadata": {},
     "output_type": "execute_result"
    }
   ],
   "source": [
    "raw_data.head()"
   ]
  },
  {
   "cell_type": "markdown",
   "metadata": {},
   "source": [
    "We check for the null values if any"
   ]
  },
  {
   "cell_type": "code",
   "execution_count": 5,
   "metadata": {},
   "outputs": [
    {
     "data": {
      "text/plain": [
       "Site              0\n",
       "Parameter         0\n",
       "Date (LT)         0\n",
       "Year              0\n",
       "Month             0\n",
       "Day               0\n",
       "Hour              0\n",
       "NowCast Conc.     0\n",
       "AQI               0\n",
       "AQI Category     39\n",
       "Raw Conc.         0\n",
       "Conc. Unit        0\n",
       "Duration          0\n",
       "QC Name           0\n",
       "dtype: int64"
      ]
     },
     "execution_count": 5,
     "metadata": {},
     "output_type": "execute_result"
    }
   ],
   "source": [
    "raw_data.isna().sum()\n",
    "# there are 30 nos null values for the AQI Category.\n"
   ]
  },
  {
   "cell_type": "code",
   "execution_count": 8,
   "metadata": {},
   "outputs": [],
   "source": [
    "data_1 = raw_data[[\"Date (LT)\", \"AQI\"]]"
   ]
  },
  {
   "cell_type": "code",
   "execution_count": 19,
   "metadata": {},
   "outputs": [
    {
     "name": "stderr",
     "output_type": "stream",
     "text": [
      "/tmp/ipykernel_22489/4148393300.py:1: SettingWithCopyWarning: \n",
      "A value is trying to be set on a copy of a slice from a DataFrame\n",
      "\n",
      "See the caveats in the documentation: https://pandas.pydata.org/pandas-docs/stable/user_guide/indexing.html#returning-a-view-versus-a-copy\n",
      "  data_1.rename(columns={\"Date (LT)\" : \"Date\"}, inplace=True)\n"
     ]
    }
   ],
   "source": [
    "data_1.rename(columns={\"Date (LT)\" : \"Date\"}, inplace=True)"
   ]
  },
  {
   "cell_type": "code",
   "execution_count": 23,
   "metadata": {},
   "outputs": [
    {
     "data": {
      "text/plain": [
       "0      2022-01-01 02:00:00\n",
       "1      2022-01-01 03:00:00\n",
       "2      2022-01-01 04:00:00\n",
       "3      2022-01-01 05:00:00\n",
       "4      2022-01-01 06:00:00\n",
       "               ...        \n",
       "8146   2022-12-31 21:00:00\n",
       "8147   2022-12-31 22:00:00\n",
       "8148   2022-12-31 23:00:00\n",
       "8149   2023-01-01 00:00:00\n",
       "8150   2023-01-01 01:00:00\n",
       "Name: Date, Length: 8151, dtype: datetime64[ns]"
      ]
     },
     "execution_count": 23,
     "metadata": {},
     "output_type": "execute_result"
    }
   ],
   "source": [
    "data_1[\"Date\"] =  pd.to_datetime(data_1[\"Date\"])"
   ]
  },
  {
   "cell_type": "code",
   "execution_count": 24,
   "metadata": {},
   "outputs": [
    {
     "name": "stdout",
     "output_type": "stream",
     "text": [
      "<class 'pandas.core.frame.DataFrame'>\n",
      "RangeIndex: 8151 entries, 0 to 8150\n",
      "Data columns (total 2 columns):\n",
      " #   Column  Non-Null Count  Dtype         \n",
      "---  ------  --------------  -----         \n",
      " 0   Date    8151 non-null   datetime64[ns]\n",
      " 1   AQI     8151 non-null   int64         \n",
      "dtypes: datetime64[ns](1), int64(1)\n",
      "memory usage: 127.5 KB\n"
     ]
    }
   ],
   "source": [
    "data_1.info()"
   ]
  },
  {
   "cell_type": "code",
   "execution_count": null,
   "metadata": {},
   "outputs": [],
   "source": [
    "import statsmodels.api as sm\n",
    "\n",
    "decomposition  = sm.tsa.seasonal_decompose(diet['diet'])"
   ]
  }
 ],
 "metadata": {
  "kernelspec": {
   "display_name": "Python 3",
   "language": "python",
   "name": "python3"
  },
  "language_info": {
   "codemirror_mode": {
    "name": "ipython",
    "version": 3
   },
   "file_extension": ".py",
   "mimetype": "text/x-python",
   "name": "python",
   "nbconvert_exporter": "python",
   "pygments_lexer": "ipython3",
   "version": "3.11.6"
  }
 },
 "nbformat": 4,
 "nbformat_minor": 2
}
